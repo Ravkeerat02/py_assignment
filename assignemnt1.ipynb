{
  "nbformat": 4,
  "nbformat_minor": 0,
  "metadata": {
    "colab": {
      "name": "assignemnt1",
      "provenance": [],
      "authorship_tag": "ABX9TyOCwwtHSvQ3RKPfon2Vllto",
      "include_colab_link": true
    },
    "kernelspec": {
      "name": "python3",
      "display_name": "Python 3"
    },
    "language_info": {
      "name": "python"
    }
  },
  "cells": [
    {
      "cell_type": "markdown",
      "metadata": {
        "id": "view-in-github",
        "colab_type": "text"
      },
      "source": [
        "<a href=\"https://colab.research.google.com/github/Ravkeerat02/py_assignment/blob/main/assignemnt1.ipynb\" target=\"_parent\"><img src=\"https://colab.research.google.com/assets/colab-badge.svg\" alt=\"Open In Colab\"/></a>"
      ]
    },
    {
      "cell_type": "code",
      "execution_count": 7,
      "metadata": {
        "id": "IjotCq8CtPUQ",
        "colab": {
          "base_uri": "https://localhost:8080/"
        },
        "outputId": "6a63d70b-b299-4f05-be53-f4f2905cc4d4"
      },
      "outputs": [
        {
          "output_type": "stream",
          "name": "stdout",
          "text": [
            "Whats your ID100024\n",
            "Whats your work experience45\n",
            "You are an employee\n"
          ]
        }
      ],
      "source": [
        "#MAIN FILE\n",
        "\n",
        "\n",
        "from tabulate import tabulate\n",
        "# ———————————————\n",
        "# | 1- Create Employee |\n",
        "# | 2- Create Item |\n",
        "# | 3- Make Purchase |\n",
        "# | 4-All Employee Summary |\n",
        "# | 5-Exit |\n",
        "# ———————————————\n",
        "\n",
        "# #Cusomter menu\n",
        "# print(\"-----------------------------\")\n",
        "# print(\" | 1- Create Employee | \")\n",
        "# print(\" | 2- Create Item     | \")\n",
        "# print(\" | 3- Make Purchase   | \")\n",
        "# print(\" | 4-All Employee Summary | \")\n",
        "# print(\" | 5-Exit | \")\n",
        "# print(\"-----------------------------\")\n",
        "\n",
        "#https://www.101computing.net/number-only/\n",
        "\n",
        "#Employee page \n",
        "\n",
        "# def employee():\n",
        "\n",
        "# employee_string = input(\"Please enter the employee ID, name , Type , Work Experience(in yrs), Total Purchased, Total Discounts,Disucount #\")\n",
        "# print(\"\\t\")\n",
        "# employee_list = employee_string.split()\n",
        "# employee_list = {'Employee ID': [1001, 1002, 1003], 'Name': ['Jane Doe', 'King kong', 'Michael Jackson'], 'Type': ['hourly','contract','manager'],'Years Worked' :{12,24,50} }\n",
        "# #print list \n",
        "# # print(\"Employee: \" , employee_list)\n",
        "# print(tabulate(employee_list, headers='firstrow', tablefmt='fancy_grid'))\n",
        "#number check \n",
        "def inputNumber(message):\n",
        "  while True:\n",
        "    try:\n",
        "      userInput = int(input(message))\n",
        "    except ValueError:\n",
        "      print(\"Not a number! Try again\")\n",
        "      continue\n",
        "    else:\n",
        "      return userInput\n",
        "      break\n",
        "\n",
        "#checking if it works\n",
        "employeeId = inputNumber(\"Whats your ID\")\n",
        "yearsWorked = inputNumber(\"Whats your work experience\")\n",
        "\n",
        "if(employeeId <= 10000000):\n",
        "  print(\"You are an employee\")\n",
        "elif (yearsWorked <= 100):\n",
        "  print(\"You worked long time\")\n",
        "else:\n",
        "  print(\"invalid input\")\n",
        "#Item page \n",
        "\n",
        "\n",
        "\n",
        "# item_string = input(\"Please enter the Item No, Item Name,Item Cost \")\n",
        "# print(\"\\n\")\n",
        "# item_list = item_string.split()\n",
        "# # #print list\n",
        "# # print(\"Item: \" , item_list)\n",
        "# print(tabulate(item_string, headers='firstrow', tablefmt='grid'))\n",
        "\n",
        "\n",
        "\n"
      ]
    }
  ]
}