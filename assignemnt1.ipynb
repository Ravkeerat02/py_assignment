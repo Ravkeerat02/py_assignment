{
  "nbformat": 4,
  "nbformat_minor": 0,
  "metadata": {
    "colab": {
      "name": "assignemnt1",
      "provenance": [],
      "collapsed_sections": [],
      "authorship_tag": "ABX9TyM6dwmVam/FmovITBblpRSX",
      "include_colab_link": true
    },
    "kernelspec": {
      "name": "python3",
      "display_name": "Python 3"
    },
    "language_info": {
      "name": "python"
    }
  },
  "cells": [
    {
      "cell_type": "markdown",
      "metadata": {
        "id": "view-in-github",
        "colab_type": "text"
      },
      "source": [
        "<a href=\"https://colab.research.google.com/github/Ravkeerat02/py_assignment/blob/main/assignemnt1.ipynb\" target=\"_parent\"><img src=\"https://colab.research.google.com/assets/colab-badge.svg\" alt=\"Open In Colab\"/></a>"
      ]
    },
    {
      "cell_type": "code",
      "execution_count": 13,
      "metadata": {
        "id": "IjotCq8CtPUQ",
        "colab": {
          "base_uri": "https://localhost:8080/"
        },
        "outputId": "d9635b41-fb67-48d8-e59c-cf3e30a6ef5c"
      },
      "outputs": [
        {
          "output_type": "stream",
          "name": "stdout",
          "text": [
            "Do you work hourly or are you managerHOURLY \n",
            "Wrong input\n",
            "Do you work hourly or are you managerhourly \n",
            "Wrong input\n",
            "Do you work hourly or are you managerhourly\n",
            "Enter employee id: 1000000\n",
            " Valid input \n",
            "Enter work experinece(in yrs): 45\n",
            " Valid input \n",
            "Enter the discount number: 100.2\n",
            " Valid input \n",
            " Enter item number: 200\n",
            " Valid input \n",
            "Enter the discount number: 150\n",
            " Valid input \n",
            "Enter the item cost: \n",
            "Invalid input . Please try again \n",
            "NOT NULL\n"
          ]
        }
      ],
      "source": [
        "#MAIN FILE\n",
        "# from tabulate import tabulate\n",
        "# ———————————————\n",
        "# | 1- Create Employee |\n",
        "# | 2- Create Item |\n",
        "# | 3- Make Purchase |\n",
        "# | 4-All Employee Summary |\n",
        "# | 5-Exit |\n",
        "# ———————————————\n",
        "\n",
        "# #Cusomter menu\n",
        "# print(\"-----------------------------\")\n",
        "# print(\" | 1- Create Employee | \")\n",
        "# print(\" | 2- Create Item     | \")\n",
        "# print(\" | 3- Make Purchase   | \")\n",
        "# print(\" | 4-All Employee Summary | \")\n",
        "# print(\" | 5-Exit | \")\n",
        "# print(\"-----------------------------\")\n",
        "\n",
        "#Employee page \n",
        "\n",
        "#Employee check \n",
        "\n",
        "def employee_check(input):\n",
        "    try:\n",
        "        val = int(input)\n",
        "        print(\" Valid input \")\n",
        "    except ValueError:\n",
        "        try:\n",
        "            val = float(input)\n",
        "            print(\" Valid input \")\n",
        "        except ValueError:\n",
        "            print(\"Invalid input . Please try again \")\n",
        "\n",
        "while True:\n",
        "  emp_type = input(\"Do you work hourly or are you manager\")\n",
        "  if emp_type in ('hourly' , 'HOURLY' ,'Hourly', 'manager','MANAGER','Manager'):\n",
        "    break\n",
        "  else:\n",
        "    print(\"Wrong input\")\n",
        "\n",
        "emp_id = input(\"Enter employee id: \")\n",
        "employee_check(emp_id)\n",
        "\n",
        "emp_experience = input(\"Enter work experinece(in yrs): \")\n",
        "employee_check(emp_experience)\n",
        "\n",
        "emp_discount_number = input(\"Enter the discount number: \")\n",
        "employee_check(emp_discount_number)\n",
        "\n",
        "#employee_discount - unique pending \n",
        "#table pending \n",
        "#print(tabulate(emp_id , emp_discount_number ,emp_experience, tablefmt='fancy_grid'))\n",
        "\n",
        "\n",
        "#Item page \n",
        "def item_check(input):\n",
        "    try:\n",
        "        # Convert it into integer\n",
        "        val = int(input)\n",
        "        print(\" Valid input \")\n",
        "    except ValueError:\n",
        "        try:\n",
        "            val = float(input)\n",
        "            print(\"Valid input . Number = \", val)\n",
        "        except ValueError:\n",
        "            print(\"Invalid input . Please try again \")\n",
        "\n",
        "\n",
        "item_no = input(\" Enter item number: \")\n",
        "item_check(item_no)\n",
        "\n",
        "item_cost = input(\"Enter the discount number: \")\n",
        "item_check(item_cost)\n",
        "\n",
        "item_cost = input(\"Enter the item cost: \")\n",
        "item_check(item_cost)\n",
        "\n",
        "if item_no is not None:\n",
        "  print(\"NOT NULL\")\n",
        "elif item_cost is not None:\n",
        "  print(\"NOT NULL\")\n",
        "elif item_cost is not None:\n",
        "  print(\"NOT NULL\")\n",
        "else:\n",
        "  print(\"NULL\")\n",
        "\n",
        "# item_string = input(\"Please enter the Item No, Item Name,Item Cost \")\n",
        "# print(\"\\n\")\n",
        "# item_list = item_string.split()\n",
        "# # #print list\n",
        "# # print(\"Item: \" , item_list)\n",
        "# print(tabulate(item_string, headers='firstrow', tablefmt='grid'))\n",
        "\n",
        "\n",
        "\n"
      ]
    },
    {
      "cell_type": "code",
      "source": [
        ""
      ],
      "metadata": {
        "id": "z4P3zIjcZGbT"
      },
      "execution_count": null,
      "outputs": []
    }
  ]
}