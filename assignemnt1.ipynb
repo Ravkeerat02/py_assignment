{
  "nbformat": 4,
  "nbformat_minor": 0,
  "metadata": {
    "colab": {
      "name": "assignemnt1",
      "provenance": [],
      "authorship_tag": "ABX9TyOEJr2ipa7bMObU8g/3Gvkk",
      "include_colab_link": true
    },
    "kernelspec": {
      "name": "python3",
      "display_name": "Python 3"
    },
    "language_info": {
      "name": "python"
    }
  },
  "cells": [
    {
      "cell_type": "markdown",
      "metadata": {
        "id": "view-in-github",
        "colab_type": "text"
      },
      "source": [
        "<a href=\"https://colab.research.google.com/github/Ravkeerat02/py_assignment/blob/main/assignemnt1.ipynb\" target=\"_parent\"><img src=\"https://colab.research.google.com/assets/colab-badge.svg\" alt=\"Open In Colab\"/></a>"
      ]
    },
    {
      "cell_type": "code",
      "execution_count": 5,
      "metadata": {
        "id": "IjotCq8CtPUQ",
        "colab": {
          "base_uri": "https://localhost:8080/"
        },
        "outputId": "fde945cb-9161-4b60-e918-e5d3a8110fea"
      },
      "outputs": [
        {
          "output_type": "stream",
          "name": "stdout",
          "text": [
            "Please enter the employee ID, name , Type , Work Experience(in yrs), Total Purchased, Total Discounts,Disucount #[1001, John Alber, hourly, 8, 0, 0, 22737]\n",
            "\t\n",
            "Employee:  ['[1001,', 'John', 'Alber,', 'hourly,', '8,', '0,', '0,', '22737]']\n",
            "Please enter the Item No, Item Name,Item Cost 11526, Nike shoes, 120\n",
            "\n",
            "\n",
            "Item:  ['11526,', 'Nike', 'shoes,', '120']\n"
          ]
        }
      ],
      "source": [
        "#MAIN FILE\n",
        "\n",
        "# ———————————————\n",
        "# | 1- Create Employee |\n",
        "# | 2- Create Item |\n",
        "# | 3- Make Purchase |\n",
        "# | 4-All Employee Summary |\n",
        "# | 5-Exit |\n",
        "# ———————————————\n",
        "\n",
        "# #Cusomter menu\n",
        "# print(\"-----------------------------\")\n",
        "# print(\" | 1- Create Employee | \")\n",
        "# print(\" | 2- Create Item     | \")\n",
        "# print(\" | 3- Make Purchase   | \")\n",
        "# print(\" | 4-All Employee Summary | \")\n",
        "# print(\" | 5-Exit | \")\n",
        "# print(\"-----------------------------\")\n",
        "\n",
        "\n",
        "#Employee page \n",
        "\n",
        "# def employee():\n",
        "\n",
        "employee_string = input(\"Please enter the employee ID, name , Type , Work Experience(in yrs), Total Purchased, Total Discounts,Disucount #\")\n",
        "print(\"\\t\")\n",
        "employee_list = employee_string.split()\n",
        "#print list \n",
        "print(\"Employee: \" , employee_list)\n",
        "\n",
        "#Item page \n",
        "\n",
        "item_string = input(\"Please enter the Item No, Item Name,Item Cost \")\n",
        "print(\"\\n\")\n",
        "item_list = item_string.split()\n",
        "#print list\n",
        "print(\"Item: \" , item_list)\n",
        "\n",
        "\n",
        "\n"
      ]
    }
  ]
}