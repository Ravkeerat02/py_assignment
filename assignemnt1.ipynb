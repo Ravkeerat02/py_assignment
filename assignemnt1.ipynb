{
  "nbformat": 4,
  "nbformat_minor": 0,
  "metadata": {
    "colab": {
      "name": "assignemnt1",
      "provenance": [],
      "authorship_tag": "ABX9TyPfuBtmOSh4DYJQyT1YJ0Hc",
      "include_colab_link": true
    },
    "kernelspec": {
      "name": "python3",
      "display_name": "Python 3"
    },
    "language_info": {
      "name": "python"
    }
  },
  "cells": [
    {
      "cell_type": "markdown",
      "metadata": {
        "id": "view-in-github",
        "colab_type": "text"
      },
      "source": [
        "<a href=\"https://colab.research.google.com/github/Ravkeerat02/py_assignment/blob/main/assignemnt1.ipynb\" target=\"_parent\"><img src=\"https://colab.research.google.com/assets/colab-badge.svg\" alt=\"Open In Colab\"/></a>"
      ]
    },
    {
      "cell_type": "code",
      "execution_count": null,
      "metadata": {
        "id": "IjotCq8CtPUQ"
      },
      "outputs": [],
      "source": [
        "#MAIN FILE"
      ]
    }
  ]
}